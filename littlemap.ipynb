{
  "nbformat": 4,
  "nbformat_minor": 0,
  "metadata": {
    "colab": {
      "name": "Copy of Homework 6.ipynb",
      "provenance": [],
      "collapsed_sections": [],
      "authorship_tag": "ABX9TyNhYhi66Hrv4yAuJsbRSNYX",
      "include_colab_link": true
    },
    "kernelspec": {
      "name": "python3",
      "display_name": "Python 3"
    },
    "language_info": {
      "name": "python"
    }
  },
  "cells": [
    {
      "cell_type": "markdown",
      "metadata": {
        "id": "view-in-github",
        "colab_type": "text"
      },
      "source": [
        "<a href=\"https://colab.research.google.com/github/jwilsonschutter/Assignment-4-Webmapping/blob/main/littlemap.ipynb\" target=\"_parent\"><img src=\"https://colab.research.google.com/assets/colab-badge.svg\" alt=\"Open In Colab\"/></a>"
      ]
    },
    {
      "cell_type": "code",
      "metadata": {
        "colab": {
          "base_uri": "https://localhost:8080/"
        },
        "id": "ANhr8Q5S5BX3",
        "outputId": "72e6bd00-a319-4eb4-f64b-eadfdf27484d"
      },
      "source": [
        "#Here I install all of the packages I'll be using today! (some were used )\n",
        "\n",
        "import pandas as pd\n",
        "%pip install censusdata \n",
        "import censusdata as cd\n",
        "pd.set_option('display.expand_frame_repr', False)\n",
        "pd.set_option('display.precision', 2)\n",
        "import statsmodels.formula.api as sm\n",
        "import numpy as np\n",
        "%pip install --upgrade --quiet plotly\n",
        "import plotly.express as px\n",
        "import requests\n",
        "import json"
      ],
      "execution_count": null,
      "outputs": [
        {
          "output_type": "stream",
          "name": "stdout",
          "text": [
            "Collecting censusdata\n",
            "  Downloading CensusData-1.15.tar.gz (26.6 MB)\n",
            "\u001b[K     |████████████████████████████████| 26.6 MB 73 kB/s \n",
            "\u001b[?25hRequirement already satisfied: pandas in /usr/local/lib/python3.7/dist-packages (from censusdata) (1.1.5)\n",
            "Requirement already satisfied: requests in /usr/local/lib/python3.7/dist-packages (from censusdata) (2.23.0)\n",
            "Requirement already satisfied: python-dateutil>=2.7.3 in /usr/local/lib/python3.7/dist-packages (from pandas->censusdata) (2.8.2)\n",
            "Requirement already satisfied: pytz>=2017.2 in /usr/local/lib/python3.7/dist-packages (from pandas->censusdata) (2018.9)\n",
            "Requirement already satisfied: numpy>=1.15.4 in /usr/local/lib/python3.7/dist-packages (from pandas->censusdata) (1.19.5)\n",
            "Requirement already satisfied: six>=1.5 in /usr/local/lib/python3.7/dist-packages (from python-dateutil>=2.7.3->pandas->censusdata) (1.15.0)\n",
            "Requirement already satisfied: urllib3!=1.25.0,!=1.25.1,<1.26,>=1.21.1 in /usr/local/lib/python3.7/dist-packages (from requests->censusdata) (1.24.3)\n",
            "Requirement already satisfied: certifi>=2017.4.17 in /usr/local/lib/python3.7/dist-packages (from requests->censusdata) (2021.5.30)\n",
            "Requirement already satisfied: idna<3,>=2.5 in /usr/local/lib/python3.7/dist-packages (from requests->censusdata) (2.10)\n",
            "Requirement already satisfied: chardet<4,>=3.0.2 in /usr/local/lib/python3.7/dist-packages (from requests->censusdata) (3.0.4)\n",
            "Building wheels for collected packages: censusdata\n",
            "  Building wheel for censusdata (setup.py) ... \u001b[?25l\u001b[?25hdone\n",
            "  Created wheel for censusdata: filename=CensusData-1.15-py3-none-any.whl size=28205534 sha256=3755a734c7ac154e988e9057600942c3a866b8769bdd04b2287530ee00b47940\n",
            "  Stored in directory: /root/.cache/pip/wheels/17/11/8c/933901298f486bd414f2ab1a62a114085f7d7a19dcbda2dd08\n",
            "Successfully built censusdata\n",
            "Installing collected packages: censusdata\n",
            "Successfully installed censusdata-1.15\n"
          ]
        },
        {
          "output_type": "stream",
          "name": "stderr",
          "text": [
            "/usr/local/lib/python3.7/dist-packages/statsmodels/tools/_testing.py:19: FutureWarning: pandas.util.testing is deprecated. Use the functions in the public API at pandas.testing instead.\n",
            "  import pandas.util.testing as tm\n"
          ]
        },
        {
          "output_type": "stream",
          "name": "stdout",
          "text": [
            "\u001b[K     |████████████████████████████████| 23.9 MB 14 kB/s \n",
            "\u001b[?25h"
          ]
        }
      ]
    },
    {
      "cell_type": "markdown",
      "metadata": {
        "id": "iNjnX9UoZOlz"
      },
      "source": [
        "We'll start by looking at the 2010 5 year ACS, where we see that the most affluent part of Manhattan pulls in an average houshold income of over 230 thousand dollars a year, and this is around the upper east side, represented by census tract 130. The following area is also right next door, and is census tract 142 pulling in around 10k less annually than it's neighbor. The rest of the most affluent areas are located nearby, or in the most southern tip of Manhattan near the Financial District. We also see that the worst off areas of Manhattan are pulling in less than 10k annually, and this would be right around Midtown, with other lower-income areas to the north of central park around Harlem, or on the south-eastern banks of NYC's Lower East Side."
      ]
    },
    {
      "cell_type": "code",
      "metadata": {
        "colab": {
          "base_uri": "https://localhost:8080/",
          "height": 206
        },
        "id": "N_0ZnKCgKx9B",
        "outputId": "a2b20276-119c-4acb-9e71-aa7bd2e8c6c8"
      },
      "source": [
        "#download the data from the census and turn it into a data frame for 2019, needed to use acs 5 as acs 1 didn't have the tract level, only county!\n",
        "newyorkcounty2010 = cd.download('acs5', 2010, cd.censusgeo([('state', '36'), ('county', '061'), ('tract', '*')]),['B19013_001E'])\n",
        "\n",
        "df_2010 = pd.DataFrame(newyorkcounty2010)\n",
        "#make the index a column in it's own right so it's easier to deal with\n",
        "df_2010_full = df_2010.reset_index()\n",
        "df_2010_full = df_2010_full.rename(columns = {'index':'census_tract'})\n",
        "df_2010_full = df_2010_full.rename(columns = {'B19013_001E':'hh_median_income'})\n",
        "df_2010_full['hh_median_income'] = df_2010_full['hh_median_income'].astype(int)\n",
        "df_2010_full['census_tract'] = df_2010_full['census_tract'].astype(str)\n",
        "df_2010_full['tracts_simplified'] = df_2010_full['census_tract'].str[-6:]\n",
        "df_2010_full['temp_additative'] = 1\n",
        "df_2010_full['temp_additative'] = df_2010_full['temp_additative'].astype(str)\n",
        "df_2010_full['final_tracts'] = df_2010_full['temp_additative'] + df_2010_full['tracts_simplified']\n",
        "#the following two lines are done to drop columns that don't have any value as some places like central park or other public properties doen't have people who live there!\n",
        "df_2010_full = df_2010_full[df_2010_full['hh_median_income'].notna()]\n",
        "df_2010_full = df_2010_full[df_2010_full['hh_median_income'] > 0]\n",
        "#now for the display\n",
        "df_2010_display = df_2010_full[['census_tract','hh_median_income']]\n",
        "df_2010_display = df_2010_display.sort_values(by=['hh_median_income'], ascending=False)\n",
        "df_2010_display = df_2010_display.rename(columns= {'census_tract':'Census Tract', 'hh_median_income':'Median Household Income'})\n",
        "df_2010_full = df_2010_full.rename(columns= {'hh_median_income':'Median Household Income'})\n",
        "df_2010_display.head()\n",
        "\n"
      ],
      "execution_count": null,
      "outputs": [
        {
          "output_type": "execute_result",
          "data": {
            "text/html": [
              "<div>\n",
              "<style scoped>\n",
              "    .dataframe tbody tr th:only-of-type {\n",
              "        vertical-align: middle;\n",
              "    }\n",
              "\n",
              "    .dataframe tbody tr th {\n",
              "        vertical-align: top;\n",
              "    }\n",
              "\n",
              "    .dataframe thead th {\n",
              "        text-align: right;\n",
              "    }\n",
              "</style>\n",
              "<table border=\"1\" class=\"dataframe\">\n",
              "  <thead>\n",
              "    <tr style=\"text-align: right;\">\n",
              "      <th></th>\n",
              "      <th>Census Tract</th>\n",
              "      <th>Median Household Income</th>\n",
              "    </tr>\n",
              "  </thead>\n",
              "  <tbody>\n",
              "    <tr>\n",
              "      <th>244</th>\n",
              "      <td>Census Tract 130, New York County, New York: S...</td>\n",
              "      <td>232768</td>\n",
              "    </tr>\n",
              "    <tr>\n",
              "      <th>255</th>\n",
              "      <td>Census Tract 142, New York County, New York: S...</td>\n",
              "      <td>222829</td>\n",
              "    </tr>\n",
              "    <tr>\n",
              "      <th>133</th>\n",
              "      <td>Census Tract 21, New York County, New York: Su...</td>\n",
              "      <td>203849</td>\n",
              "    </tr>\n",
              "    <tr>\n",
              "      <th>279</th>\n",
              "      <td>Census Tract 160.01, New York County, New York...</td>\n",
              "      <td>189936</td>\n",
              "    </tr>\n",
              "    <tr>\n",
              "      <th>267</th>\n",
              "      <td>Census Tract 150.02, New York County, New York...</td>\n",
              "      <td>170486</td>\n",
              "    </tr>\n",
              "  </tbody>\n",
              "</table>\n",
              "</div>"
            ],
            "text/plain": [
              "                                          Census Tract  Median Household Income\n",
              "244  Census Tract 130, New York County, New York: S...                   232768\n",
              "255  Census Tract 142, New York County, New York: S...                   222829\n",
              "133  Census Tract 21, New York County, New York: Su...                   203849\n",
              "279  Census Tract 160.01, New York County, New York...                   189936\n",
              "267  Census Tract 150.02, New York County, New York...                   170486"
            ]
          },
          "metadata": {},
          "execution_count": 3
        }
      ]
    },
    {
      "cell_type": "code",
      "metadata": {
        "colab": {
          "base_uri": "https://localhost:8080/",
          "height": 204
        },
        "id": "FcGMxndfaPB7",
        "outputId": "2e268b54-5169-4e15-88af-7918864f3b65"
      },
      "source": [
        "newyorkcounty2010 = cd.download('acs5', 2010, cd.censusgeo([('state', '36'), ('county', '061'), ('tract', '*')]),['B19013_001E'])\n"
      ],
      "execution_count": null,
      "outputs": [
        {
          "output_type": "execute_result",
          "data": {
            "text/html": [
              "<div>\n",
              "<style scoped>\n",
              "    .dataframe tbody tr th:only-of-type {\n",
              "        vertical-align: middle;\n",
              "    }\n",
              "\n",
              "    .dataframe tbody tr th {\n",
              "        vertical-align: top;\n",
              "    }\n",
              "\n",
              "    .dataframe thead th {\n",
              "        text-align: right;\n",
              "    }\n",
              "</style>\n",
              "<table border=\"1\" class=\"dataframe\">\n",
              "  <thead>\n",
              "    <tr style=\"text-align: right;\">\n",
              "      <th></th>\n",
              "      <th>Census Tract</th>\n",
              "      <th>Median Household Income</th>\n",
              "    </tr>\n",
              "  </thead>\n",
              "  <tbody>\n",
              "    <tr>\n",
              "      <th>79</th>\n",
              "      <td>Census Tract 243.02, New York County, New York...</td>\n",
              "      <td>16505</td>\n",
              "    </tr>\n",
              "    <tr>\n",
              "      <th>137</th>\n",
              "      <td>Census Tract 25, New York County, New York: Su...</td>\n",
              "      <td>16299</td>\n",
              "    </tr>\n",
              "    <tr>\n",
              "      <th>24</th>\n",
              "      <td>Census Tract 192, New York County, New York: S...</td>\n",
              "      <td>16157</td>\n",
              "    </tr>\n",
              "    <tr>\n",
              "      <th>234</th>\n",
              "      <td>Census Tract 119, New York County, New York: S...</td>\n",
              "      <td>13856</td>\n",
              "    </tr>\n",
              "    <tr>\n",
              "      <th>207</th>\n",
              "      <td>Census Tract 94, New York County, New York: Su...</td>\n",
              "      <td>9750</td>\n",
              "    </tr>\n",
              "  </tbody>\n",
              "</table>\n",
              "</div>"
            ],
            "text/plain": [
              "                                          Census Tract  Median Household Income\n",
              "79   Census Tract 243.02, New York County, New York...                    16505\n",
              "137  Census Tract 25, New York County, New York: Su...                    16299\n",
              "24   Census Tract 192, New York County, New York: S...                    16157\n",
              "234  Census Tract 119, New York County, New York: S...                    13856\n",
              "207  Census Tract 94, New York County, New York: Su...                     9750"
            ]
          },
          "metadata": {
            "tags": []
          },
          "execution_count": 4
        }
      ]
    },
    {
      "cell_type": "markdown",
      "metadata": {
        "id": "dVs7qtxjZo21"
      },
      "source": [
        "When examining the end of the decade, or the 2019 5 year ACS, we see that the average household income has increased dramatically in the most affluent parts of Manhattan, hitting over the maximum reportable data by the ACS, i.e. over 250k annually, and similarly to in 2010, the most affluent census tracts seem to be around the upper east side and the financial district! We see that poverty seems to be less prounced with even the least fiscally gifted tracts still earning over 5k more than the previous lowest, meaning that at the very least everyone in Manhattan has gotten richer over the previous decade. Similarly, Harlem, and the lowest east side, along with certain parts of Midtown take the cake here for the lowest earning census tracts."
      ]
    },
    {
      "cell_type": "code",
      "metadata": {
        "id": "jw-ikREH6F_p",
        "colab": {
          "base_uri": "https://localhost:8080/",
          "height": 204
        },
        "outputId": "614f910f-d6df-4237-900a-b94474439678"
      },
      "source": [
        "#download the data from the census and turn it into a data frame for 2019 061 manhattan, 047 kings / brooklyn\n",
        "newyorkcounty2019 = cd.download('acs5', 2019, cd.censusgeo([('state', '36'), ('county', '047'), ('tract', '*')]),['B19013_001E'])\n",
        "df_2019 = pd.DataFrame(newyorkcounty2019)\n",
        "#make the index a column in it's own right so it's easier to deal with\n",
        "df_2019_full = df_2019.reset_index()\n",
        "df_2019_full = df_2019_full.rename(columns = {'index':'census_tract'})\n",
        "df_2019_full = df_2019_full.rename(columns = {'B19013_001E':'hh_median_income'})\n",
        "df_2019_full['hh_median_income'] = df_2019_full['hh_median_income'].astype(int)\n",
        "df_2019_full['census_tract'] = df_2019_full['census_tract'].astype(str)\n",
        "df_2019_full['tracts_simplified'] = df_2019_full['census_tract'].str[-6:]\n",
        "df_2019_full['temp_additative'] = 1\n",
        "df_2019_full['temp_additative'] = df_2019_full['temp_additative'].astype(str)\n",
        "df_2019_full['final_tracts'] = df_2019_full['temp_additative'] + df_2019_full['tracts_simplified']\n",
        "#the following two lines are done to drop columns that don't have any value as some places like central park or other public properties doen't have people who live there!\n",
        "df_2019_full = df_2019_full[df_2019_full['hh_median_income'].notna()]\n",
        "df_2019_full = df_2019_full[df_2019_full['hh_median_income'] > 0]\n",
        "#now we're on to the display\n",
        "df_2019_display = df_2019_full[['census_tract','hh_median_income']]\n",
        "df_2019_display = df_2019_display.sort_values(by=['hh_median_income'], ascending=False)\n",
        "df_2019_display = df_2019_display.rename(columns= {'census_tract':'Census Tract','hh_median_income':'Median Household Income'})\n",
        "df_2019_full = df_2019_full.rename(columns= {'hh_median_income':'Median Household Income'})\n",
        "df_2019_display.head()"
      ],
      "execution_count": null,
      "outputs": [
        {
          "output_type": "execute_result",
          "data": {
            "text/html": [
              "<div>\n",
              "<style scoped>\n",
              "    .dataframe tbody tr th:only-of-type {\n",
              "        vertical-align: middle;\n",
              "    }\n",
              "\n",
              "    .dataframe tbody tr th {\n",
              "        vertical-align: top;\n",
              "    }\n",
              "\n",
              "    .dataframe thead th {\n",
              "        text-align: right;\n",
              "    }\n",
              "</style>\n",
              "<table border=\"1\" class=\"dataframe\">\n",
              "  <thead>\n",
              "    <tr style=\"text-align: right;\">\n",
              "      <th></th>\n",
              "      <th>Census Tract</th>\n",
              "      <th>Median Household Income</th>\n",
              "    </tr>\n",
              "  </thead>\n",
              "  <tbody>\n",
              "    <tr>\n",
              "      <th>313</th>\n",
              "      <td>Census Tract 21, Kings County, New York: Summa...</td>\n",
              "      <td>228276</td>\n",
              "    </tr>\n",
              "    <tr>\n",
              "      <th>685</th>\n",
              "      <td>Census Tract 133, Kings County, New York: Summ...</td>\n",
              "      <td>192813</td>\n",
              "    </tr>\n",
              "    <tr>\n",
              "      <th>191</th>\n",
              "      <td>Census Tract 165, Kings County, New York: Summ...</td>\n",
              "      <td>173939</td>\n",
              "    </tr>\n",
              "    <tr>\n",
              "      <th>584</th>\n",
              "      <td>Census Tract 167, Kings County, New York: Summ...</td>\n",
              "      <td>173113</td>\n",
              "    </tr>\n",
              "    <tr>\n",
              "      <th>681</th>\n",
              "      <td>Census Tract 67, Kings County, New York: Summa...</td>\n",
              "      <td>171477</td>\n",
              "    </tr>\n",
              "  </tbody>\n",
              "</table>\n",
              "</div>"
            ],
            "text/plain": [
              "                                          Census Tract  Median Household Income\n",
              "313  Census Tract 21, Kings County, New York: Summa...                   228276\n",
              "685  Census Tract 133, Kings County, New York: Summ...                   192813\n",
              "191  Census Tract 165, Kings County, New York: Summ...                   173939\n",
              "584  Census Tract 167, Kings County, New York: Summ...                   173113\n",
              "681  Census Tract 67, Kings County, New York: Summa...                   171477"
            ]
          },
          "metadata": {
            "tags": []
          },
          "execution_count": 3
        }
      ]
    },
    {
      "cell_type": "code",
      "metadata": {
        "colab": {
          "base_uri": "https://localhost:8080/",
          "height": 476
        },
        "id": "MUQFn1fYaoMz",
        "outputId": "186b7316-36ef-4fc7-80f3-60dc8049d220"
      },
      "source": [
        "brooklyn2019race = cd.download('acs5', 2019, cd.censusgeo([('state', '36'), ('county', '047'), ('tract', '*')]),['DP05_0038PE'])\n",
        "df_race_2019 = pd.DataFrame(brooklyn2019race)\n",
        "df_race_2019.head()"
      ],
      "execution_count": null,
      "outputs": [
        {
          "output_type": "error",
          "ename": "ValueError",
          "evalue": "ignored",
          "traceback": [
            "\u001b[0;31m---------------------------------------------------------------------------\u001b[0m",
            "\u001b[0;31mJSONDecodeError\u001b[0m                           Traceback (most recent call last)",
            "\u001b[0;32m/usr/local/lib/python3.7/dist-packages/censusdata/download.py\u001b[0m in \u001b[0;36m_download\u001b[0;34m(src, year, params, baseurl, endpt)\u001b[0m\n\u001b[1;32m     35\u001b[0m         \u001b[0;32mtry\u001b[0m\u001b[0;34m:\u001b[0m\u001b[0;34m\u001b[0m\u001b[0;34m\u001b[0m\u001b[0m\n\u001b[0;32m---> 36\u001b[0;31m                 \u001b[0mdata\u001b[0m \u001b[0;34m=\u001b[0m \u001b[0mr\u001b[0m\u001b[0;34m.\u001b[0m\u001b[0mjson\u001b[0m\u001b[0;34m(\u001b[0m\u001b[0;34m)\u001b[0m\u001b[0;34m\u001b[0m\u001b[0;34m\u001b[0m\u001b[0m\n\u001b[0m\u001b[1;32m     37\u001b[0m         \u001b[0;32mexcept\u001b[0m\u001b[0;34m:\u001b[0m\u001b[0;34m\u001b[0m\u001b[0;34m\u001b[0m\u001b[0m\n",
            "\u001b[0;32m/usr/local/lib/python3.7/dist-packages/requests/models.py\u001b[0m in \u001b[0;36mjson\u001b[0;34m(self, **kwargs)\u001b[0m\n\u001b[1;32m    897\u001b[0m                     \u001b[0;32mpass\u001b[0m\u001b[0;34m\u001b[0m\u001b[0;34m\u001b[0m\u001b[0m\n\u001b[0;32m--> 898\u001b[0;31m         \u001b[0;32mreturn\u001b[0m \u001b[0mcomplexjson\u001b[0m\u001b[0;34m.\u001b[0m\u001b[0mloads\u001b[0m\u001b[0;34m(\u001b[0m\u001b[0mself\u001b[0m\u001b[0;34m.\u001b[0m\u001b[0mtext\u001b[0m\u001b[0;34m,\u001b[0m \u001b[0;34m**\u001b[0m\u001b[0mkwargs\u001b[0m\u001b[0;34m)\u001b[0m\u001b[0;34m\u001b[0m\u001b[0;34m\u001b[0m\u001b[0m\n\u001b[0m\u001b[1;32m    899\u001b[0m \u001b[0;34m\u001b[0m\u001b[0m\n",
            "\u001b[0;32m/usr/lib/python3.7/json/__init__.py\u001b[0m in \u001b[0;36mloads\u001b[0;34m(s, encoding, cls, object_hook, parse_float, parse_int, parse_constant, object_pairs_hook, **kw)\u001b[0m\n\u001b[1;32m    347\u001b[0m             parse_constant is None and object_pairs_hook is None and not kw):\n\u001b[0;32m--> 348\u001b[0;31m         \u001b[0;32mreturn\u001b[0m \u001b[0m_default_decoder\u001b[0m\u001b[0;34m.\u001b[0m\u001b[0mdecode\u001b[0m\u001b[0;34m(\u001b[0m\u001b[0ms\u001b[0m\u001b[0;34m)\u001b[0m\u001b[0;34m\u001b[0m\u001b[0;34m\u001b[0m\u001b[0m\n\u001b[0m\u001b[1;32m    349\u001b[0m     \u001b[0;32mif\u001b[0m \u001b[0mcls\u001b[0m \u001b[0;32mis\u001b[0m \u001b[0;32mNone\u001b[0m\u001b[0;34m:\u001b[0m\u001b[0;34m\u001b[0m\u001b[0;34m\u001b[0m\u001b[0m\n",
            "\u001b[0;32m/usr/lib/python3.7/json/decoder.py\u001b[0m in \u001b[0;36mdecode\u001b[0;34m(self, s, _w)\u001b[0m\n\u001b[1;32m    336\u001b[0m         \"\"\"\n\u001b[0;32m--> 337\u001b[0;31m         \u001b[0mobj\u001b[0m\u001b[0;34m,\u001b[0m \u001b[0mend\u001b[0m \u001b[0;34m=\u001b[0m \u001b[0mself\u001b[0m\u001b[0;34m.\u001b[0m\u001b[0mraw_decode\u001b[0m\u001b[0;34m(\u001b[0m\u001b[0ms\u001b[0m\u001b[0;34m,\u001b[0m \u001b[0midx\u001b[0m\u001b[0;34m=\u001b[0m\u001b[0m_w\u001b[0m\u001b[0;34m(\u001b[0m\u001b[0ms\u001b[0m\u001b[0;34m,\u001b[0m \u001b[0;36m0\u001b[0m\u001b[0;34m)\u001b[0m\u001b[0;34m.\u001b[0m\u001b[0mend\u001b[0m\u001b[0;34m(\u001b[0m\u001b[0;34m)\u001b[0m\u001b[0;34m)\u001b[0m\u001b[0;34m\u001b[0m\u001b[0;34m\u001b[0m\u001b[0m\n\u001b[0m\u001b[1;32m    338\u001b[0m         \u001b[0mend\u001b[0m \u001b[0;34m=\u001b[0m \u001b[0m_w\u001b[0m\u001b[0;34m(\u001b[0m\u001b[0ms\u001b[0m\u001b[0;34m,\u001b[0m \u001b[0mend\u001b[0m\u001b[0;34m)\u001b[0m\u001b[0;34m.\u001b[0m\u001b[0mend\u001b[0m\u001b[0;34m(\u001b[0m\u001b[0;34m)\u001b[0m\u001b[0;34m\u001b[0m\u001b[0;34m\u001b[0m\u001b[0m\n",
            "\u001b[0;32m/usr/lib/python3.7/json/decoder.py\u001b[0m in \u001b[0;36mraw_decode\u001b[0;34m(self, s, idx)\u001b[0m\n\u001b[1;32m    354\u001b[0m         \u001b[0;32mexcept\u001b[0m \u001b[0mStopIteration\u001b[0m \u001b[0;32mas\u001b[0m \u001b[0merr\u001b[0m\u001b[0;34m:\u001b[0m\u001b[0;34m\u001b[0m\u001b[0;34m\u001b[0m\u001b[0m\n\u001b[0;32m--> 355\u001b[0;31m             \u001b[0;32mraise\u001b[0m \u001b[0mJSONDecodeError\u001b[0m\u001b[0;34m(\u001b[0m\u001b[0;34m\"Expecting value\"\u001b[0m\u001b[0;34m,\u001b[0m \u001b[0ms\u001b[0m\u001b[0;34m,\u001b[0m \u001b[0merr\u001b[0m\u001b[0;34m.\u001b[0m\u001b[0mvalue\u001b[0m\u001b[0;34m)\u001b[0m \u001b[0;32mfrom\u001b[0m \u001b[0;32mNone\u001b[0m\u001b[0;34m\u001b[0m\u001b[0;34m\u001b[0m\u001b[0m\n\u001b[0m\u001b[1;32m    356\u001b[0m         \u001b[0;32mreturn\u001b[0m \u001b[0mobj\u001b[0m\u001b[0;34m,\u001b[0m \u001b[0mend\u001b[0m\u001b[0;34m\u001b[0m\u001b[0;34m\u001b[0m\u001b[0m\n",
            "\u001b[0;31mJSONDecodeError\u001b[0m: Expecting value: line 1 column 1 (char 0)",
            "\nDuring handling of the above exception, another exception occurred:\n",
            "\u001b[0;31mValueError\u001b[0m                                Traceback (most recent call last)",
            "\u001b[0;32m<ipython-input-6-046bb73949e8>\u001b[0m in \u001b[0;36m<module>\u001b[0;34m()\u001b[0m\n\u001b[0;32m----> 1\u001b[0;31m \u001b[0mbrooklyn2019race\u001b[0m \u001b[0;34m=\u001b[0m \u001b[0mcd\u001b[0m\u001b[0;34m.\u001b[0m\u001b[0mdownload\u001b[0m\u001b[0;34m(\u001b[0m\u001b[0;34m'acs5'\u001b[0m\u001b[0;34m,\u001b[0m \u001b[0;36m2019\u001b[0m\u001b[0;34m,\u001b[0m \u001b[0mcd\u001b[0m\u001b[0;34m.\u001b[0m\u001b[0mcensusgeo\u001b[0m\u001b[0;34m(\u001b[0m\u001b[0;34m[\u001b[0m\u001b[0;34m(\u001b[0m\u001b[0;34m'state'\u001b[0m\u001b[0;34m,\u001b[0m \u001b[0;34m'36'\u001b[0m\u001b[0;34m)\u001b[0m\u001b[0;34m,\u001b[0m \u001b[0;34m(\u001b[0m\u001b[0;34m'county'\u001b[0m\u001b[0;34m,\u001b[0m \u001b[0;34m'047'\u001b[0m\u001b[0;34m)\u001b[0m\u001b[0;34m,\u001b[0m \u001b[0;34m(\u001b[0m\u001b[0;34m'tract'\u001b[0m\u001b[0;34m,\u001b[0m \u001b[0;34m'*'\u001b[0m\u001b[0;34m)\u001b[0m\u001b[0;34m]\u001b[0m\u001b[0;34m)\u001b[0m\u001b[0;34m,\u001b[0m\u001b[0;34m[\u001b[0m\u001b[0;34m'DP05_0038PE'\u001b[0m\u001b[0;34m]\u001b[0m\u001b[0;34m)\u001b[0m\u001b[0;34m\u001b[0m\u001b[0;34m\u001b[0m\u001b[0m\n\u001b[0m\u001b[1;32m      2\u001b[0m \u001b[0mdf_race_2019\u001b[0m \u001b[0;34m=\u001b[0m \u001b[0mpd\u001b[0m\u001b[0;34m.\u001b[0m\u001b[0mDataFrame\u001b[0m\u001b[0;34m(\u001b[0m\u001b[0mbrooklyn2019race\u001b[0m\u001b[0;34m)\u001b[0m\u001b[0;34m\u001b[0m\u001b[0;34m\u001b[0m\u001b[0m\n\u001b[1;32m      3\u001b[0m \u001b[0mdf_race_2019\u001b[0m\u001b[0;34m.\u001b[0m\u001b[0mhead\u001b[0m\u001b[0;34m(\u001b[0m\u001b[0;34m)\u001b[0m\u001b[0;34m\u001b[0m\u001b[0;34m\u001b[0m\u001b[0m\n",
            "\u001b[0;32m/usr/local/lib/python3.7/dist-packages/censusdata/download.py\u001b[0m in \u001b[0;36mdownload\u001b[0;34m(src, year, geo, var, key, tabletype, endpt)\u001b[0m\n\u001b[1;32m    114\u001b[0m                 \u001b[0mparams\u001b[0m\u001b[0;34m.\u001b[0m\u001b[0mupdate\u001b[0m\u001b[0;34m(\u001b[0m\u001b[0mgeorequest\u001b[0m\u001b[0;34m)\u001b[0m\u001b[0;34m\u001b[0m\u001b[0;34m\u001b[0m\u001b[0m\n\u001b[1;32m    115\u001b[0m                 \u001b[0;32mif\u001b[0m \u001b[0mkey\u001b[0m \u001b[0;32mis\u001b[0m \u001b[0;32mnot\u001b[0m \u001b[0;32mNone\u001b[0m\u001b[0;34m:\u001b[0m \u001b[0mparams\u001b[0m\u001b[0;34m.\u001b[0m\u001b[0mupdate\u001b[0m\u001b[0;34m(\u001b[0m\u001b[0;34m{\u001b[0m\u001b[0;34m'key'\u001b[0m\u001b[0;34m:\u001b[0m \u001b[0mkey\u001b[0m\u001b[0;34m}\u001b[0m\u001b[0;34m)\u001b[0m\u001b[0;34m\u001b[0m\u001b[0;34m\u001b[0m\u001b[0m\n\u001b[0;32m--> 116\u001b[0;31m                 \u001b[0mdata\u001b[0m\u001b[0;34m.\u001b[0m\u001b[0mupdate\u001b[0m\u001b[0;34m(\u001b[0m\u001b[0m_download\u001b[0m\u001b[0;34m(\u001b[0m\u001b[0msrc\u001b[0m \u001b[0;34m+\u001b[0m \u001b[0mtabletype\u001b[0m\u001b[0;34m,\u001b[0m \u001b[0myear\u001b[0m\u001b[0;34m,\u001b[0m \u001b[0mparams\u001b[0m\u001b[0;34m,\u001b[0m \u001b[0mendpt\u001b[0m\u001b[0;34m=\u001b[0m\u001b[0mendpt\u001b[0m\u001b[0;34m)\u001b[0m\u001b[0;34m)\u001b[0m\u001b[0;34m\u001b[0m\u001b[0;34m\u001b[0m\u001b[0m\n\u001b[0m\u001b[1;32m    117\u001b[0m         \u001b[0mgeodata\u001b[0m \u001b[0;34m=\u001b[0m \u001b[0mdata\u001b[0m\u001b[0;34m.\u001b[0m\u001b[0mcopy\u001b[0m\u001b[0;34m(\u001b[0m\u001b[0;34m)\u001b[0m\u001b[0;34m\u001b[0m\u001b[0;34m\u001b[0m\u001b[0m\n\u001b[1;32m    118\u001b[0m         \u001b[0;32mfor\u001b[0m \u001b[0mkey\u001b[0m \u001b[0;32min\u001b[0m \u001b[0mlist\u001b[0m\u001b[0;34m(\u001b[0m\u001b[0mgeodata\u001b[0m\u001b[0;34m.\u001b[0m\u001b[0mkeys\u001b[0m\u001b[0;34m(\u001b[0m\u001b[0;34m)\u001b[0m\u001b[0;34m)\u001b[0m\u001b[0;34m:\u001b[0m\u001b[0;34m\u001b[0m\u001b[0;34m\u001b[0m\u001b[0m\n",
            "\u001b[0;32m/usr/local/lib/python3.7/dist-packages/censusdata/download.py\u001b[0m in \u001b[0;36m_download\u001b[0;34m(src, year, params, baseurl, endpt)\u001b[0m\n\u001b[1;32m     36\u001b[0m                 \u001b[0mdata\u001b[0m \u001b[0;34m=\u001b[0m \u001b[0mr\u001b[0m\u001b[0;34m.\u001b[0m\u001b[0mjson\u001b[0m\u001b[0;34m(\u001b[0m\u001b[0;34m)\u001b[0m\u001b[0;34m\u001b[0m\u001b[0;34m\u001b[0m\u001b[0m\n\u001b[1;32m     37\u001b[0m         \u001b[0;32mexcept\u001b[0m\u001b[0;34m:\u001b[0m\u001b[0;34m\u001b[0m\u001b[0;34m\u001b[0m\u001b[0m\n\u001b[0;32m---> 38\u001b[0;31m                 \u001b[0;32mraise\u001b[0m \u001b[0mValueError\u001b[0m\u001b[0;34m(\u001b[0m\u001b[0;34m'Unexpected response (URL: {0.url}): {0.text} '\u001b[0m\u001b[0;34m.\u001b[0m\u001b[0mformat\u001b[0m\u001b[0;34m(\u001b[0m\u001b[0mr\u001b[0m\u001b[0;34m)\u001b[0m\u001b[0;34m)\u001b[0m\u001b[0;34m\u001b[0m\u001b[0;34m\u001b[0m\u001b[0m\n\u001b[0m\u001b[1;32m     39\u001b[0m         \u001b[0mrdata\u001b[0m \u001b[0;34m=\u001b[0m \u001b[0mOrderedDict\u001b[0m\u001b[0;34m(\u001b[0m\u001b[0;34m)\u001b[0m\u001b[0;34m\u001b[0m\u001b[0;34m\u001b[0m\u001b[0m\n\u001b[1;32m     40\u001b[0m         \u001b[0;32mfor\u001b[0m \u001b[0mj\u001b[0m \u001b[0;32min\u001b[0m \u001b[0mrange\u001b[0m\u001b[0;34m(\u001b[0m\u001b[0mlen\u001b[0m\u001b[0;34m(\u001b[0m\u001b[0mdata\u001b[0m\u001b[0;34m[\u001b[0m\u001b[0;36m0\u001b[0m\u001b[0;34m]\u001b[0m\u001b[0;34m)\u001b[0m\u001b[0;34m)\u001b[0m\u001b[0;34m:\u001b[0m\u001b[0;34m\u001b[0m\u001b[0;34m\u001b[0m\u001b[0m\n",
            "\u001b[0;31mValueError\u001b[0m: Unexpected response (URL: https://api.census.gov/data/2019/acs/acs5?get=NAME,DP05_0038PE&for=tract:*&in=state:36+county:047): error: error: unknown variable 'DP05_0038PE' "
          ]
        }
      ]
    },
    {
      "cell_type": "code",
      "metadata": {
        "id": "eLGyAB_qfXeT"
      },
      "source": [
        ""
      ],
      "execution_count": null,
      "outputs": []
    },
    {
      "cell_type": "code",
      "metadata": {
        "colab": {
          "base_uri": "https://localhost:8080/",
          "height": 717
        },
        "id": "0v4T9PgbyF7d",
        "outputId": "5153f348-7b34-4072-cf75-462e7516d8b0"
      },
      "source": [
        "geojson = 'https://services5.arcgis.com/GfwWNkhOj9bNBqoJ/arcgis/rest/services/NYC_Census_Tracts_for_2010_US_Census/FeatureServer/0/query?where=1=1&outFields=*&outSR=4326&f=pgeojson'\n",
        "response = requests.get(geojson)\n",
        "response.json()\n",
        "\n",
        "fig_mapbox_2010 = px.choropleth_mapbox(df_2010_full,\n",
        "                                  geojson=geojson,\n",
        "                                  locations='final_tracts',\n",
        "                                  featureidkey='properties.BoroCT2010',\n",
        "                                  color='Median Household Income',\n",
        "                                  color_continuous_scale=\"Viridis\",\n",
        "                                  range_color=(0, 250005),\n",
        "                                  hover_data=['Median Household Income'],\n",
        "                                  center = {'lat': 40.79, 'lon': -73.99},\n",
        "                                  zoom=10.5,\n",
        "                                  mapbox_style='carto-positron')\n",
        "\n",
        "fig_mapbox_2010.update_layout(height=700)\n",
        "fig_mapbox_2010.show()"
      ],
      "execution_count": null,
      "outputs": [
        {
          "output_type": "display_data",
          "data": {
            "text/html": [
              "<html>\n",
              "<head><meta charset=\"utf-8\" /></head>\n",
              "<body>\n",
              "    <div>            <script src=\"https://cdnjs.cloudflare.com/ajax/libs/mathjax/2.7.5/MathJax.js?config=TeX-AMS-MML_SVG\"></script><script type=\"text/javascript\">if (window.MathJax) {MathJax.Hub.Config({SVG: {font: \"STIX-Web\"}});}</script>                <script type=\"text/javascript\">window.PlotlyConfig = {MathJaxConfig: 'local'};</script>\n",
              "        <script src=\"https://cdn.plot.ly/plotly-latest.min.js\"></script>                <div id=\"2a86e7c5-818d-4aef-8f41-1ccd1860e3b2\" class=\"plotly-graph-div\" style=\"height:700px; width:100%;\"></div>            <script type=\"text/javascript\">                                    window.PLOTLYENV=window.PLOTLYENV || {};                                    if (document.getElementById(\"2a86e7c5-818d-4aef-8f41-1ccd1860e3b2\")) {                    Plotly.newPlot(                        \"2a86e7c5-818d-4aef-8f41-1ccd1860e3b2\",                        [{\"coloraxis\": \"coloraxis\", \"customdata\": [[22246], [104530], [39611], [117474], [26853], [101162], [25809], [25938], [123771], [52727], [33705], [72650], [23311], [73169], [22395], [79453], [27236], [78966], [18189], [69917], [34375], [27568], [54135], [82732], [16157], [40597], [16851], [80809], [18361], [96094], [59091], [51042], [52715], [47530], [81648], [37798], [34353], [118750], [31389], [36953], [35466], [21979], [36922], [48957], [54012], [40512], [35768], [26750], [40833], [37026], [18869], [35313], [41000], [31087], [24690], [17923], [18253], [32813], [33794], [36250], [32218], [34713], [21927], [37220], [22955], [31264], [40371], [34679], [24866], [36791], [34016], [62156], [109375], [20731], [41018], [21276], [29344], [16505], [34802], [34604], [29500], [33561], [35244], [40294], [50979], [51536], [30987], [24859], [41144], [23393], [26362], [38125], [62631], [75750], [27373], [36731], [80714], [37252], [26229], [48651], [31525], [35945], [51045], [21909], [48962], [63269], [35769], [159969], [151815], [18831], [27288], [18024], [115472], [30739], [112083], [77311], [17828], [42862], [111220], [93000], [35975], [48359], [123056], [26298], [42734], [17022], [203849], [41166], [95125], [18395], [16299], [38468], [55333], [53125], [41523], [30962], [64365], [42529], [104405], [52203], [161328], [63243], [38298], [60089], [81875], [53413], [73150], [78810], [26627], [97050], [65824], [88401], [112500], [90547], [85556], [97675], [116987], [144688], [110819], [111654], [111814], [131250], [119643], [133641], [90982], [102356], [108796], [92582], [121250], [86713], [66079], [70027], [76806], [96905], [151927], [102391], [106176], [81778], [96816], [124340], [100000], [59688], [80747], [92418], [123542], [114706], [87731], [85565], [33287], [100455], [137366], [131190], [109638], [92403], [79688], [117614], [108976], [104023], [70690], [9750], [101500], [36906], [42568], [101191], [122031], [82488], [75375], [41809], [88910], [85455], [126491], [100110], [104906], [151389], [100605], [65536], [122125], [116058], [83571], [113618], [116576], [102432], [84453], [66333], [81250], [107442], [13856], [161797], [55611], [137500], [86857], [113846], [94065], [65507], [144453], [76082], [232768], [101799], [72258], [75931], [100653], [33654], [92956], [117242], [93307], [74886], [154920], [222829], [126518], [90156], [126406], [89846], [100410], [92891], [144167], [103203], [127672], [126591], [170486], [45880], [69899], [126701], [82000], [104643], [86118], [39375], [102031], [136378], [74496], [117984], [189936], [78583], [118167], [30016], [100617], [31903], [122056], [34491], [134196]], \"featureidkey\": \"properties.BoroCT2010\", \"geojson\": \"https://services5.arcgis.com/GfwWNkhOj9bNBqoJ/arcgis/rest/services/NYC_Census_Tracts_for_2010_US_Census/FeatureServer/0/query?where=1=1&outFields=*&outSR=4326&f=pgeojson\", \"hovertemplate\": \"final_tracts=%{location}<br>Median Household Income=%{z}<extra></extra>\", \"locations\": [\"1016800\", \"1016900\", \"1017000\", \"1017100\", \"1017200\", \"1017300\", \"1017401\", \"1017402\", \"1017500\", \"1017700\", \"1017800\", \"1017900\", \"1018000\", \"1018100\", \"1018200\", \"1018300\", \"1018400\", \"1018500\", \"1018600\", \"1018700\", \"1018800\", \"1018900\", \"1019000\", \"1019100\", \"1019200\", \"1019300\", \"1019400\", \"1019500\", \"1019600\", \"1019701\", \"1019702\", \"1019800\", \"1019900\", \"1020000\", \"1020101\", \"1020102\", \"1020300\", \"1020500\", \"1020600\", \"1020701\", \"1020800\", \"1020901\", \"1021000\", \"1021100\", \"1021200\", \"1021303\", \"1021400\", \"1021500\", \"1021600\", \"1021800\", \"1021900\", \"1022000\", \"1022102\", \"1022200\", \"1022301\", \"1022302\", \"1022400\", \"1022500\", \"1022600\", \"1022700\", \"1022800\", \"1022900\", \"1023000\", \"1023100\", \"1023200\", \"1023300\", \"1023400\", \"1023501\", \"1023502\", \"1023600\", \"1023700\", \"1023801\", \"1023802\", \"1023900\", \"1024100\", \"1024200\", \"1024301\", \"1024302\", \"1024500\", \"1024700\", \"1024900\", \"1025100\", \"1025300\", \"1025500\", \"1025700\", \"1025900\", \"1026100\", \"1026300\", \"1026500\", \"1026700\", \"1026900\", \"1027100\", \"1027300\", \"1027500\", \"1027700\", \"1027900\", \"1028100\", \"1028300\", \"1028500\", \"1028700\", \"1029100\", \"1029300\", \"1029500\", \"1029900\", \"1030300\", \"1030700\", \"1030900\", \"1031703\", \"1031704\", \"1000201\", \"1000202\", \"1000600\", \"1000700\", \"1000800\", \"1000900\", \"1001001\", \"1001002\", \"1001200\", \"1001300\", \"1001401\", \"1001402\", \"1001501\", \"1001502\", \"1001600\", \"1001800\", \"1002000\", \"1002100\", \"1002201\", \"1002202\", \"1002400\", \"1002500\", \"1002601\", \"1002602\", \"1002700\", \"1002800\", \"1002900\", \"1003001\", \"1003002\", \"1003100\", \"1003200\", \"1003300\", \"1003400\", \"1003601\", \"1003602\", \"1003700\", \"1003800\", \"1003900\", \"1004000\", \"1004100\", \"1004200\", \"1004300\", \"1004400\", \"1004500\", \"1004700\", \"1004800\", \"1004900\", \"1005000\", \"1005200\", \"1005400\", \"1005501\", \"1005502\", \"1005600\", \"1005700\", \"1005800\", \"1005900\", \"1006000\", \"1006100\", \"1006200\", \"1006300\", \"1006400\", \"1006500\", \"1006600\", \"1006700\", \"1006800\", \"1006900\", \"1007000\", \"1007100\", \"1007200\", \"1007300\", \"1007400\", \"1007500\", \"1007600\", \"1007700\", \"1007800\", \"1007900\", \"1008000\", \"1008100\", \"1008200\", \"1008300\", \"1008400\", \"1008601\", \"1008603\", \"1008700\", \"1008800\", \"1008900\", \"1009000\", \"1009100\", \"1009200\", \"1009300\", \"1009400\", \"1009500\", \"1009600\", \"1009700\", \"1009800\", \"1009900\", \"1010000\", \"1010100\", \"1010200\", \"1010300\", \"1010400\", \"1010601\", \"1010602\", \"1010800\", \"1010900\", \"1011000\", \"1011100\", \"1011201\", \"1011202\", \"1011203\", \"1011300\", \"1011401\", \"1011402\", \"1011500\", \"1011600\", \"1011700\", \"1011800\", \"1011900\", \"1012000\", \"1012100\", \"1012200\", \"1012400\", \"1012500\", \"1012600\", \"1012700\", \"1012800\", \"1012900\", \"1013000\", \"1013100\", \"1013200\", \"1013300\", \"1013400\", \"1013500\", \"1013600\", \"1013700\", \"1013800\", \"1013900\", \"1014000\", \"1014200\", \"1014401\", \"1014402\", \"1014500\", \"1014601\", \"1014602\", \"1014700\", \"1014801\", \"1014802\", \"1014900\", \"1015001\", \"1015002\", \"1015100\", \"1015200\", \"1015300\", \"1015400\", \"1015500\", \"1015601\", \"1015602\", \"1015700\", \"1015801\", \"1015802\", \"1015900\", \"1016001\", \"1016002\", \"1016100\", \"1016200\", \"1016300\", \"1016400\", \"1016500\", \"1016600\", \"1016700\"], \"name\": \"\", \"subplot\": \"mapbox\", \"type\": \"choroplethmapbox\", \"z\": [22246, 104530, 39611, 117474, 26853, 101162, 25809, 25938, 123771, 52727, 33705, 72650, 23311, 73169, 22395, 79453, 27236, 78966, 18189, 69917, 34375, 27568, 54135, 82732, 16157, 40597, 16851, 80809, 18361, 96094, 59091, 51042, 52715, 47530, 81648, 37798, 34353, 118750, 31389, 36953, 35466, 21979, 36922, 48957, 54012, 40512, 35768, 26750, 40833, 37026, 18869, 35313, 41000, 31087, 24690, 17923, 18253, 32813, 33794, 36250, 32218, 34713, 21927, 37220, 22955, 31264, 40371, 34679, 24866, 36791, 34016, 62156, 109375, 20731, 41018, 21276, 29344, 16505, 34802, 34604, 29500, 33561, 35244, 40294, 50979, 51536, 30987, 24859, 41144, 23393, 26362, 38125, 62631, 75750, 27373, 36731, 80714, 37252, 26229, 48651, 31525, 35945, 51045, 21909, 48962, 63269, 35769, 159969, 151815, 18831, 27288, 18024, 115472, 30739, 112083, 77311, 17828, 42862, 111220, 93000, 35975, 48359, 123056, 26298, 42734, 17022, 203849, 41166, 95125, 18395, 16299, 38468, 55333, 53125, 41523, 30962, 64365, 42529, 104405, 52203, 161328, 63243, 38298, 60089, 81875, 53413, 73150, 78810, 26627, 97050, 65824, 88401, 112500, 90547, 85556, 97675, 116987, 144688, 110819, 111654, 111814, 131250, 119643, 133641, 90982, 102356, 108796, 92582, 121250, 86713, 66079, 70027, 76806, 96905, 151927, 102391, 106176, 81778, 96816, 124340, 100000, 59688, 80747, 92418, 123542, 114706, 87731, 85565, 33287, 100455, 137366, 131190, 109638, 92403, 79688, 117614, 108976, 104023, 70690, 9750, 101500, 36906, 42568, 101191, 122031, 82488, 75375, 41809, 88910, 85455, 126491, 100110, 104906, 151389, 100605, 65536, 122125, 116058, 83571, 113618, 116576, 102432, 84453, 66333, 81250, 107442, 13856, 161797, 55611, 137500, 86857, 113846, 94065, 65507, 144453, 76082, 232768, 101799, 72258, 75931, 100653, 33654, 92956, 117242, 93307, 74886, 154920, 222829, 126518, 90156, 126406, 89846, 100410, 92891, 144167, 103203, 127672, 126591, 170486, 45880, 69899, 126701, 82000, 104643, 86118, 39375, 102031, 136378, 74496, 117984, 189936, 78583, 118167, 30016, 100617, 31903, 122056, 34491, 134196]}],                        {\"coloraxis\": {\"cmax\": 250005, \"cmin\": 0, \"colorbar\": {\"title\": {\"text\": \"Median Household Income\"}}, \"colorscale\": [[0.0, \"#440154\"], [0.1111111111111111, \"#482878\"], [0.2222222222222222, \"#3e4989\"], [0.3333333333333333, \"#31688e\"], [0.4444444444444444, \"#26828e\"], [0.5555555555555556, \"#1f9e89\"], [0.6666666666666666, \"#35b779\"], [0.7777777777777778, \"#6ece58\"], [0.8888888888888888, \"#b5de2b\"], [1.0, \"#fde725\"]]}, \"height\": 700, \"legend\": {\"tracegroupgap\": 0}, \"mapbox\": {\"center\": {\"lat\": 40.79, \"lon\": -73.99}, \"domain\": {\"x\": [0.0, 1.0], \"y\": [0.0, 1.0]}, \"style\": \"carto-positron\", \"zoom\": 10.5}, \"margin\": {\"t\": 60}, \"template\": {\"data\": {\"bar\": [{\"error_x\": {\"color\": \"#2a3f5f\"}, \"error_y\": {\"color\": \"#2a3f5f\"}, \"marker\": {\"line\": {\"color\": \"#E5ECF6\", \"width\": 0.5}}, \"type\": \"bar\"}], \"barpolar\": [{\"marker\": {\"line\": {\"color\": \"#E5ECF6\", \"width\": 0.5}}, \"type\": \"barpolar\"}], \"carpet\": [{\"aaxis\": {\"endlinecolor\": \"#2a3f5f\", \"gridcolor\": \"white\", \"linecolor\": \"white\", \"minorgridcolor\": \"white\", \"startlinecolor\": \"#2a3f5f\"}, \"baxis\": {\"endlinecolor\": \"#2a3f5f\", \"gridcolor\": \"white\", \"linecolor\": \"white\", \"minorgridcolor\": \"white\", \"startlinecolor\": \"#2a3f5f\"}, \"type\": \"carpet\"}], \"choropleth\": [{\"colorbar\": {\"outlinewidth\": 0, \"ticks\": \"\"}, \"type\": \"choropleth\"}], \"contour\": [{\"colorbar\": {\"outlinewidth\": 0, \"ticks\": \"\"}, \"colorscale\": [[0.0, \"#0d0887\"], [0.1111111111111111, \"#46039f\"], [0.2222222222222222, \"#7201a8\"], [0.3333333333333333, \"#9c179e\"], [0.4444444444444444, \"#bd3786\"], [0.5555555555555556, \"#d8576b\"], [0.6666666666666666, \"#ed7953\"], [0.7777777777777778, \"#fb9f3a\"], [0.8888888888888888, \"#fdca26\"], [1.0, \"#f0f921\"]], \"type\": \"contour\"}], \"contourcarpet\": [{\"colorbar\": {\"outlinewidth\": 0, \"ticks\": \"\"}, \"type\": \"contourcarpet\"}], \"heatmap\": [{\"colorbar\": {\"outlinewidth\": 0, \"ticks\": \"\"}, \"colorscale\": [[0.0, \"#0d0887\"], [0.1111111111111111, \"#46039f\"], [0.2222222222222222, \"#7201a8\"], [0.3333333333333333, \"#9c179e\"], [0.4444444444444444, \"#bd3786\"], [0.5555555555555556, \"#d8576b\"], [0.6666666666666666, \"#ed7953\"], [0.7777777777777778, \"#fb9f3a\"], [0.8888888888888888, \"#fdca26\"], [1.0, \"#f0f921\"]], \"type\": \"heatmap\"}], \"heatmapgl\": [{\"colorbar\": {\"outlinewidth\": 0, \"ticks\": \"\"}, \"colorscale\": [[0.0, \"#0d0887\"], [0.1111111111111111, \"#46039f\"], [0.2222222222222222, \"#7201a8\"], [0.3333333333333333, \"#9c179e\"], [0.4444444444444444, \"#bd3786\"], [0.5555555555555556, \"#d8576b\"], [0.6666666666666666, \"#ed7953\"], [0.7777777777777778, \"#fb9f3a\"], [0.8888888888888888, \"#fdca26\"], [1.0, \"#f0f921\"]], \"type\": \"heatmapgl\"}], \"histogram\": [{\"marker\": {\"colorbar\": {\"outlinewidth\": 0, \"ticks\": \"\"}}, \"type\": \"histogram\"}], \"histogram2d\": [{\"colorbar\": {\"outlinewidth\": 0, \"ticks\": \"\"}, \"colorscale\": [[0.0, \"#0d0887\"], [0.1111111111111111, \"#46039f\"], [0.2222222222222222, \"#7201a8\"], [0.3333333333333333, \"#9c179e\"], [0.4444444444444444, \"#bd3786\"], [0.5555555555555556, \"#d8576b\"], [0.6666666666666666, \"#ed7953\"], [0.7777777777777778, \"#fb9f3a\"], [0.8888888888888888, \"#fdca26\"], [1.0, \"#f0f921\"]], \"type\": \"histogram2d\"}], \"histogram2dcontour\": [{\"colorbar\": {\"outlinewidth\": 0, \"ticks\": \"\"}, \"colorscale\": [[0.0, \"#0d0887\"], [0.1111111111111111, \"#46039f\"], [0.2222222222222222, \"#7201a8\"], [0.3333333333333333, \"#9c179e\"], [0.4444444444444444, \"#bd3786\"], [0.5555555555555556, \"#d8576b\"], [0.6666666666666666, \"#ed7953\"], [0.7777777777777778, \"#fb9f3a\"], [0.8888888888888888, \"#fdca26\"], [1.0, \"#f0f921\"]], \"type\": \"histogram2dcontour\"}], \"mesh3d\": [{\"colorbar\": {\"outlinewidth\": 0, \"ticks\": \"\"}, \"type\": \"mesh3d\"}], \"parcoords\": [{\"line\": {\"colorbar\": {\"outlinewidth\": 0, \"ticks\": \"\"}}, \"type\": \"parcoords\"}], \"pie\": [{\"automargin\": true, \"type\": \"pie\"}], \"scatter\": [{\"marker\": {\"colorbar\": {\"outlinewidth\": 0, \"ticks\": \"\"}}, \"type\": \"scatter\"}], \"scatter3d\": [{\"line\": {\"colorbar\": {\"outlinewidth\": 0, \"ticks\": \"\"}}, \"marker\": {\"colorbar\": {\"outlinewidth\": 0, \"ticks\": \"\"}}, \"type\": \"scatter3d\"}], \"scattercarpet\": [{\"marker\": {\"colorbar\": {\"outlinewidth\": 0, \"ticks\": \"\"}}, \"type\": \"scattercarpet\"}], \"scattergeo\": [{\"marker\": {\"colorbar\": {\"outlinewidth\": 0, \"ticks\": \"\"}}, \"type\": \"scattergeo\"}], \"scattergl\": [{\"marker\": {\"colorbar\": {\"outlinewidth\": 0, \"ticks\": \"\"}}, \"type\": \"scattergl\"}], \"scattermapbox\": [{\"marker\": {\"colorbar\": {\"outlinewidth\": 0, \"ticks\": \"\"}}, \"type\": \"scattermapbox\"}], \"scatterpolar\": [{\"marker\": {\"colorbar\": {\"outlinewidth\": 0, \"ticks\": \"\"}}, \"type\": \"scatterpolar\"}], \"scatterpolargl\": [{\"marker\": {\"colorbar\": {\"outlinewidth\": 0, \"ticks\": \"\"}}, \"type\": \"scatterpolargl\"}], \"scatterternary\": [{\"marker\": {\"colorbar\": {\"outlinewidth\": 0, \"ticks\": \"\"}}, \"type\": \"scatterternary\"}], \"surface\": [{\"colorbar\": {\"outlinewidth\": 0, \"ticks\": \"\"}, \"colorscale\": [[0.0, \"#0d0887\"], [0.1111111111111111, \"#46039f\"], [0.2222222222222222, \"#7201a8\"], [0.3333333333333333, \"#9c179e\"], [0.4444444444444444, \"#bd3786\"], [0.5555555555555556, \"#d8576b\"], [0.6666666666666666, \"#ed7953\"], [0.7777777777777778, \"#fb9f3a\"], [0.8888888888888888, \"#fdca26\"], [1.0, \"#f0f921\"]], \"type\": \"surface\"}], \"table\": [{\"cells\": {\"fill\": {\"color\": \"#EBF0F8\"}, \"line\": {\"color\": \"white\"}}, \"header\": {\"fill\": {\"color\": \"#C8D4E3\"}, \"line\": {\"color\": \"white\"}}, \"type\": \"table\"}]}, \"layout\": {\"annotationdefaults\": {\"arrowcolor\": \"#2a3f5f\", \"arrowhead\": 0, \"arrowwidth\": 1}, \"autotypenumbers\": \"strict\", \"coloraxis\": {\"colorbar\": {\"outlinewidth\": 0, \"ticks\": \"\"}}, \"colorscale\": {\"diverging\": [[0, \"#8e0152\"], [0.1, \"#c51b7d\"], [0.2, \"#de77ae\"], [0.3, \"#f1b6da\"], [0.4, \"#fde0ef\"], [0.5, \"#f7f7f7\"], [0.6, \"#e6f5d0\"], [0.7, \"#b8e186\"], [0.8, \"#7fbc41\"], [0.9, \"#4d9221\"], [1, \"#276419\"]], \"sequential\": [[0.0, \"#0d0887\"], [0.1111111111111111, \"#46039f\"], [0.2222222222222222, \"#7201a8\"], [0.3333333333333333, \"#9c179e\"], [0.4444444444444444, \"#bd3786\"], [0.5555555555555556, \"#d8576b\"], [0.6666666666666666, \"#ed7953\"], [0.7777777777777778, \"#fb9f3a\"], [0.8888888888888888, \"#fdca26\"], [1.0, \"#f0f921\"]], \"sequentialminus\": [[0.0, \"#0d0887\"], [0.1111111111111111, \"#46039f\"], [0.2222222222222222, \"#7201a8\"], [0.3333333333333333, \"#9c179e\"], [0.4444444444444444, \"#bd3786\"], [0.5555555555555556, \"#d8576b\"], [0.6666666666666666, \"#ed7953\"], [0.7777777777777778, \"#fb9f3a\"], [0.8888888888888888, \"#fdca26\"], [1.0, \"#f0f921\"]]}, \"colorway\": [\"#636efa\", \"#EF553B\", \"#00cc96\", \"#ab63fa\", \"#FFA15A\", \"#19d3f3\", \"#FF6692\", \"#B6E880\", \"#FF97FF\", \"#FECB52\"], \"font\": {\"color\": \"#2a3f5f\"}, \"geo\": {\"bgcolor\": \"white\", \"lakecolor\": \"white\", \"landcolor\": \"#E5ECF6\", \"showlakes\": true, \"showland\": true, \"subunitcolor\": \"white\"}, \"hoverlabel\": {\"align\": \"left\"}, \"hovermode\": \"closest\", \"mapbox\": {\"style\": \"light\"}, \"paper_bgcolor\": \"white\", \"plot_bgcolor\": \"#E5ECF6\", \"polar\": {\"angularaxis\": {\"gridcolor\": \"white\", \"linecolor\": \"white\", \"ticks\": \"\"}, \"bgcolor\": \"#E5ECF6\", \"radialaxis\": {\"gridcolor\": \"white\", \"linecolor\": \"white\", \"ticks\": \"\"}}, \"scene\": {\"xaxis\": {\"backgroundcolor\": \"#E5ECF6\", \"gridcolor\": \"white\", \"gridwidth\": 2, \"linecolor\": \"white\", \"showbackground\": true, \"ticks\": \"\", \"zerolinecolor\": \"white\"}, \"yaxis\": {\"backgroundcolor\": \"#E5ECF6\", \"gridcolor\": \"white\", \"gridwidth\": 2, \"linecolor\": \"white\", \"showbackground\": true, \"ticks\": \"\", \"zerolinecolor\": \"white\"}, \"zaxis\": {\"backgroundcolor\": \"#E5ECF6\", \"gridcolor\": \"white\", \"gridwidth\": 2, \"linecolor\": \"white\", \"showbackground\": true, \"ticks\": \"\", \"zerolinecolor\": \"white\"}}, \"shapedefaults\": {\"line\": {\"color\": \"#2a3f5f\"}}, \"ternary\": {\"aaxis\": {\"gridcolor\": \"white\", \"linecolor\": \"white\", \"ticks\": \"\"}, \"baxis\": {\"gridcolor\": \"white\", \"linecolor\": \"white\", \"ticks\": \"\"}, \"bgcolor\": \"#E5ECF6\", \"caxis\": {\"gridcolor\": \"white\", \"linecolor\": \"white\", \"ticks\": \"\"}}, \"title\": {\"x\": 0.05}, \"xaxis\": {\"automargin\": true, \"gridcolor\": \"white\", \"linecolor\": \"white\", \"ticks\": \"\", \"title\": {\"standoff\": 15}, \"zerolinecolor\": \"white\", \"zerolinewidth\": 2}, \"yaxis\": {\"automargin\": true, \"gridcolor\": \"white\", \"linecolor\": \"white\", \"ticks\": \"\", \"title\": {\"standoff\": 15}, \"zerolinecolor\": \"white\", \"zerolinewidth\": 2}}}},                        {\"responsive\": true}                    ).then(function(){\n",
              "                            \n",
              "var gd = document.getElementById('2a86e7c5-818d-4aef-8f41-1ccd1860e3b2');\n",
              "var x = new MutationObserver(function (mutations, observer) {{\n",
              "        var display = window.getComputedStyle(gd).display;\n",
              "        if (!display || display === 'none') {{\n",
              "            console.log([gd, 'removed!']);\n",
              "            Plotly.purge(gd);\n",
              "            observer.disconnect();\n",
              "        }}\n",
              "}});\n",
              "\n",
              "// Listen for the removal of the full notebook cells\n",
              "var notebookContainer = gd.closest('#notebook-container');\n",
              "if (notebookContainer) {{\n",
              "    x.observe(notebookContainer, {childList: true});\n",
              "}}\n",
              "\n",
              "// Listen for the clearing of the current output cell\n",
              "var outputEl = gd.closest('.output');\n",
              "if (outputEl) {{\n",
              "    x.observe(outputEl, {childList: true});\n",
              "}}\n",
              "\n",
              "                        })                };                            </script>        </div>\n",
              "</body>\n",
              "</html>"
            ]
          },
          "metadata": {
            "tags": []
          }
        }
      ]
    },
    {
      "cell_type": "code",
      "metadata": {
        "colab": {
          "base_uri": "https://localhost:8080/",
          "height": 717
        },
        "id": "aQTcJyGC-IQs",
        "outputId": "8afd2b96-4ce8-43f6-923a-6f7b4465ecca"
      },
      "source": [
        "fig_mapbox_2019 = px.choropleth_mapbox(df_2019_full,\n",
        "                                  geojson=geojson,\n",
        "                                  locations='final_tracts',\n",
        "                                  featureidkey='properties.BoroCT2010',\n",
        "                                  color='Median Household Income',\n",
        "                                  color_continuous_scale=\"Viridis\",\n",
        "                                  range_color=(0, 250005),\n",
        "                                  hover_data=['Median Household Income'],\n",
        "                                  center = {'lat': 40.79, 'lon': -73.99},\n",
        "                                  zoom=10.5,\n",
        "                                  mapbox_style='carto-positron')\n",
        "\n",
        "fig_mapbox_2019.update_layout(height=700)\n",
        "fig_mapbox_2019.show()"
      ],
      "execution_count": null,
      "outputs": [
        {
          "output_type": "display_data",
          "data": {
            "text/html": [
              "<html>\n",
              "<head><meta charset=\"utf-8\" /></head>\n",
              "<body>\n",
              "    <div>            <script src=\"https://cdnjs.cloudflare.com/ajax/libs/mathjax/2.7.5/MathJax.js?config=TeX-AMS-MML_SVG\"></script><script type=\"text/javascript\">if (window.MathJax) {MathJax.Hub.Config({SVG: {font: \"STIX-Web\"}});}</script>                <script type=\"text/javascript\">window.PlotlyConfig = {MathJaxConfig: 'local'};</script>\n",
              "        <script src=\"https://cdn.plot.ly/plotly-latest.min.js\"></script>                <div id=\"cff6b0db-9e4a-4056-9ea8-ced194b9997d\" class=\"plotly-graph-div\" style=\"height:700px; width:100%;\"></div>            <script type=\"text/javascript\">                                    window.PLOTLYENV=window.PLOTLYENV || {};                                    if (document.getElementById(\"cff6b0db-9e4a-4056-9ea8-ced194b9997d\")) {                    Plotly.newPlot(                        \"cff6b0db-9e4a-4056-9ea8-ced194b9997d\",                        [{\"coloraxis\": \"coloraxis\", \"customdata\": [[66466], [41250], [81250], [184609], [96071], [159514], [158125], [170781], [104520], [33601], [43983], [51719], [56818], [50149], [98636], [108889], [25773], [79722], [63807], [80797], [128491], [141141], [158750], [46729], [250001], [44199], [171173], [27355], [30703], [70057], [166786], [81541], [19189], [250001], [76912], [53669], [103750], [101037], [74877], [96287], [223438], [88594], [147500], [141667], [127969], [49118], [16653], [207064], [85000], [51074], [91004], [67036], [207708], [126788], [199201], [129779], [40402], [201250], [96429], [30208], [23527], [55786], [148839], [183810], [177188], [72596], [70223], [90714], [23230], [50568], [52716], [70399], [19907], [45167], [42157], [43542], [166094], [161004], [169778], [210726], [123066], [156964], [29500], [28864], [112917], [152171], [137109], [77547], [72643], [22475], [135233], [165234], [63750], [156975], [50972], [41160], [69926], [56393], [57389], [49012], [62031], [43182], [46853], [42045], [106908], [48504], [127917], [107908], [167750], [137449], [80221], [61534], [173898], [95313], [62209], [211705], [101494], [99798], [180172], [137196], [89868], [133409], [91143], [119345], [81239], [191417], [149212], [161776], [214831], [100152], [125388], [20117], [88785], [96282], [121250], [36124], [52813], [101941], [182083], [207857], [111074], [106944], [60647], [250001], [109470], [119926], [100809], [137070], [150349], [76933], [74897], [98766], [250001], [32530], [34600], [72833], [77750], [60863], [96154], [70650], [52907], [39911], [59405], [46761], [128250], [161979], [95921], [28235], [117679], [119750], [92426], [46500], [107708], [126332], [145000], [87500], [139815], [133960], [135734], [138971], [125882], [17568], [108275], [107295], [108333], [131884], [162857], [42917], [98125], [106207], [141672], [16600], [33487], [14144], [20868], [27908], [173309], [160614], [92788], [150893], [163854], [149583], [128415], [110845], [159671], [196964], [76489], [124803], [108623], [137679], [97455], [123370], [130500], [95879], [166513], [250001], [174167], [156435], [36032], [194153], [120240], [138750], [133778], [141563], [22217], [62802], [66648], [139952], [183346], [48245], [159792], [22738], [35466], [162158], [92917], [62083], [123707], [130938], [153264], [129167], [88091], [47411], [136146], [36250], [32396], [60585], [58077], [24286], [89882], [60128], [32295], [87574], [45410], [76028], [137703], [161259], [120136], [28726], [17455], [32194], [129194], [58333], [55476], [20373], [53819], [34263], [36804], [39095], [55734], [42525], [113125], [52656], [31625], [49482], [56855], [47054], [73514], [206750]], \"featureidkey\": \"properties.BoroCT2010\", \"geojson\": \"https://services5.arcgis.com/GfwWNkhOj9bNBqoJ/arcgis/rest/services/NYC_Census_Tracts_for_2010_US_Census/FeatureServer/0/query?where=1=1&outFields=*&outSR=4326&f=pgeojson\", \"hovertemplate\": \"final_tracts=%{location}<br>Median Household Income=%{z}<extra></extra>\", \"locations\": [\"1025500\", \"1022200\", \"1001001\", \"1000700\", \"1010300\", \"1003700\", \"1008601\", \"1008603\", \"1004400\", \"1017200\", \"1021303\", \"1021500\", \"1022700\", \"1023100\", \"1023801\", \"1023802\", \"1024200\", \"1025700\", \"1025900\", \"1006600\", \"1006800\", \"1008200\", \"1008400\", \"1001600\", \"1002100\", \"1002800\", \"1001300\", \"1001402\", \"1002201\", \"1003001\", \"1003100\", \"1003400\", \"1029900\", \"1031703\", \"1019800\", \"1001200\", \"1001401\", \"1001501\", \"1004300\", \"1004900\", \"1003300\", \"1003602\", \"1004800\", \"1011800\", \"1015900\", \"1024500\", \"1002000\", \"1003900\", \"1004100\", \"1022600\", \"1026500\", \"1003800\", \"1005800\", \"1008800\", \"1012000\", \"1015500\", \"1016600\", \"1016700\", \"1018100\", \"1020901\", \"1022302\", \"1025300\", \"1004200\", \"1005700\", \"1008700\", \"1027100\", \"1030300\", \"1030700\", \"1001002\", \"1001800\", \"1021100\", \"1021600\", \"1021900\", \"1023700\", \"1025100\", \"1026700\", \"1005200\", \"1005501\", \"1006000\", \"1006100\", \"1007200\", \"1007400\", \"1000201\", \"1027700\", \"1011100\", \"1011402\", \"1014000\", \"1015100\", \"1015602\", \"1016800\", \"1017300\", \"1017500\", \"1003002\", \"1006300\", \"1017800\", \"1018800\", \"1022000\", \"1022301\", \"1023300\", \"1023400\", \"1024700\", \"1024900\", \"1026100\", \"1026300\", \"1027500\", \"1028500\", \"1005900\", \"1006700\", \"1010900\", \"1007500\", \"1008300\", \"1009700\", \"1010601\", \"1011300\", \"1012100\", \"1012200\", \"1012600\", \"1012900\", \"1013700\", \"1013800\", \"1015200\", \"1010100\", \"1012700\", \"1013100\", \"1013300\", \"1014200\", \"1014900\", \"1015001\", \"1015002\", \"1015400\", \"1016300\", \"1019200\", \"1019500\", \"1019900\", \"1020500\", \"1023000\", \"1020300\", \"1013900\", \"1014500\", \"1014700\", \"1006400\", \"1006500\", \"1019702\", \"1006900\", \"1007000\", \"1007300\", \"1007600\", \"1008100\", \"1009100\", \"1009300\", \"1017700\", \"1015601\", \"1016001\", \"1016200\", \"1018600\", \"1020000\", \"1020102\", \"1021400\", \"1022102\", \"1022800\", \"1022900\", \"1023502\", \"1023501\", \"1023600\", \"1016900\", \"1017100\", \"1017900\", \"1018200\", \"1018300\", \"1011201\", \"1011600\", \"1003601\", \"1004500\", \"1005502\", \"1005600\", \"1006200\", \"1007700\", \"1008000\", \"1009000\", \"1009200\", \"1010400\", \"1011900\", \"1013200\", \"1013400\", \"1013600\", \"1014402\", \"1014801\", \"1026900\", \"1028100\", \"1008900\", \"1009900\", \"1000600\", \"1000800\", \"1002400\", \"1002500\", \"1002900\", \"1005400\", \"1007100\", \"1007900\", \"1009400\", \"1010800\", \"1011000\", \"1012400\", \"1011500\", \"1011700\", \"1013000\", \"1013500\", \"1014401\", \"1014602\", \"1014802\", \"1015802\", \"1016002\", \"1009600\", \"1010000\", \"1010602\", \"1011401\", \"1012800\", \"1015300\", \"1017000\", \"1031704\", \"1012500\", \"1020101\", \"1007800\", \"1011202\", \"1017401\", \"1020701\", \"1003200\", \"1014601\", \"1016500\", \"1027900\", \"1011203\", \"1018400\", \"1000202\", \"1001502\", \"1002202\", \"1002700\", \"1004700\", \"1005000\", \"1009500\", \"1009800\", \"1020800\", \"1017402\", \"1018700\", \"1018900\", \"1021000\", \"1022500\", \"1024301\", \"1024302\", \"1027300\", \"1028700\", \"1030900\", \"1004000\", \"1002601\", \"1002602\", \"1015700\", \"1015801\", \"1016100\", \"1016400\", \"1019600\", \"1018000\", \"1018500\", \"1019000\", \"1019300\", \"1019400\", \"1021200\", \"1022400\", \"1023200\", \"1023900\", \"1024100\", \"1029300\", \"1019100\", \"1019701\", \"1020600\", \"1021800\", \"1028300\", \"1029100\", \"1029500\", \"1000900\"], \"name\": \"\", \"subplot\": \"mapbox\", \"type\": \"choroplethmapbox\", \"z\": [66466, 41250, 81250, 184609, 96071, 159514, 158125, 170781, 104520, 33601, 43983, 51719, 56818, 50149, 98636, 108889, 25773, 79722, 63807, 80797, 128491, 141141, 158750, 46729, 250001, 44199, 171173, 27355, 30703, 70057, 166786, 81541, 19189, 250001, 76912, 53669, 103750, 101037, 74877, 96287, 223438, 88594, 147500, 141667, 127969, 49118, 16653, 207064, 85000, 51074, 91004, 67036, 207708, 126788, 199201, 129779, 40402, 201250, 96429, 30208, 23527, 55786, 148839, 183810, 177188, 72596, 70223, 90714, 23230, 50568, 52716, 70399, 19907, 45167, 42157, 43542, 166094, 161004, 169778, 210726, 123066, 156964, 29500, 28864, 112917, 152171, 137109, 77547, 72643, 22475, 135233, 165234, 63750, 156975, 50972, 41160, 69926, 56393, 57389, 49012, 62031, 43182, 46853, 42045, 106908, 48504, 127917, 107908, 167750, 137449, 80221, 61534, 173898, 95313, 62209, 211705, 101494, 99798, 180172, 137196, 89868, 133409, 91143, 119345, 81239, 191417, 149212, 161776, 214831, 100152, 125388, 20117, 88785, 96282, 121250, 36124, 52813, 101941, 182083, 207857, 111074, 106944, 60647, 250001, 109470, 119926, 100809, 137070, 150349, 76933, 74897, 98766, 250001, 32530, 34600, 72833, 77750, 60863, 96154, 70650, 52907, 39911, 59405, 46761, 128250, 161979, 95921, 28235, 117679, 119750, 92426, 46500, 107708, 126332, 145000, 87500, 139815, 133960, 135734, 138971, 125882, 17568, 108275, 107295, 108333, 131884, 162857, 42917, 98125, 106207, 141672, 16600, 33487, 14144, 20868, 27908, 173309, 160614, 92788, 150893, 163854, 149583, 128415, 110845, 159671, 196964, 76489, 124803, 108623, 137679, 97455, 123370, 130500, 95879, 166513, 250001, 174167, 156435, 36032, 194153, 120240, 138750, 133778, 141563, 22217, 62802, 66648, 139952, 183346, 48245, 159792, 22738, 35466, 162158, 92917, 62083, 123707, 130938, 153264, 129167, 88091, 47411, 136146, 36250, 32396, 60585, 58077, 24286, 89882, 60128, 32295, 87574, 45410, 76028, 137703, 161259, 120136, 28726, 17455, 32194, 129194, 58333, 55476, 20373, 53819, 34263, 36804, 39095, 55734, 42525, 113125, 52656, 31625, 49482, 56855, 47054, 73514, 206750]}],                        {\"coloraxis\": {\"cmax\": 250005, \"cmin\": 0, \"colorbar\": {\"title\": {\"text\": \"Median Household Income\"}}, \"colorscale\": [[0.0, \"#440154\"], [0.1111111111111111, \"#482878\"], [0.2222222222222222, \"#3e4989\"], [0.3333333333333333, \"#31688e\"], [0.4444444444444444, \"#26828e\"], [0.5555555555555556, \"#1f9e89\"], [0.6666666666666666, \"#35b779\"], [0.7777777777777778, \"#6ece58\"], [0.8888888888888888, \"#b5de2b\"], [1.0, \"#fde725\"]]}, \"height\": 700, \"legend\": {\"tracegroupgap\": 0}, \"mapbox\": {\"center\": {\"lat\": 40.79, \"lon\": -73.99}, \"domain\": {\"x\": [0.0, 1.0], \"y\": [0.0, 1.0]}, \"style\": \"carto-positron\", \"zoom\": 10.5}, \"margin\": {\"t\": 60}, \"template\": {\"data\": {\"bar\": [{\"error_x\": {\"color\": \"#2a3f5f\"}, \"error_y\": {\"color\": \"#2a3f5f\"}, \"marker\": {\"line\": {\"color\": \"#E5ECF6\", \"width\": 0.5}}, \"type\": \"bar\"}], \"barpolar\": [{\"marker\": {\"line\": {\"color\": \"#E5ECF6\", \"width\": 0.5}}, \"type\": \"barpolar\"}], \"carpet\": [{\"aaxis\": {\"endlinecolor\": \"#2a3f5f\", \"gridcolor\": \"white\", \"linecolor\": \"white\", \"minorgridcolor\": \"white\", \"startlinecolor\": \"#2a3f5f\"}, \"baxis\": {\"endlinecolor\": \"#2a3f5f\", \"gridcolor\": \"white\", \"linecolor\": \"white\", \"minorgridcolor\": \"white\", \"startlinecolor\": \"#2a3f5f\"}, \"type\": \"carpet\"}], \"choropleth\": [{\"colorbar\": {\"outlinewidth\": 0, \"ticks\": \"\"}, \"type\": \"choropleth\"}], \"contour\": [{\"colorbar\": {\"outlinewidth\": 0, \"ticks\": \"\"}, \"colorscale\": [[0.0, \"#0d0887\"], [0.1111111111111111, \"#46039f\"], [0.2222222222222222, \"#7201a8\"], [0.3333333333333333, \"#9c179e\"], [0.4444444444444444, \"#bd3786\"], [0.5555555555555556, \"#d8576b\"], [0.6666666666666666, \"#ed7953\"], [0.7777777777777778, \"#fb9f3a\"], [0.8888888888888888, \"#fdca26\"], [1.0, \"#f0f921\"]], \"type\": \"contour\"}], \"contourcarpet\": [{\"colorbar\": {\"outlinewidth\": 0, \"ticks\": \"\"}, \"type\": \"contourcarpet\"}], \"heatmap\": [{\"colorbar\": {\"outlinewidth\": 0, \"ticks\": \"\"}, \"colorscale\": [[0.0, \"#0d0887\"], [0.1111111111111111, \"#46039f\"], [0.2222222222222222, \"#7201a8\"], [0.3333333333333333, \"#9c179e\"], [0.4444444444444444, \"#bd3786\"], [0.5555555555555556, \"#d8576b\"], [0.6666666666666666, \"#ed7953\"], [0.7777777777777778, \"#fb9f3a\"], [0.8888888888888888, \"#fdca26\"], [1.0, \"#f0f921\"]], \"type\": \"heatmap\"}], \"heatmapgl\": [{\"colorbar\": {\"outlinewidth\": 0, \"ticks\": \"\"}, \"colorscale\": [[0.0, \"#0d0887\"], [0.1111111111111111, \"#46039f\"], [0.2222222222222222, \"#7201a8\"], [0.3333333333333333, \"#9c179e\"], [0.4444444444444444, \"#bd3786\"], [0.5555555555555556, \"#d8576b\"], [0.6666666666666666, \"#ed7953\"], [0.7777777777777778, \"#fb9f3a\"], [0.8888888888888888, \"#fdca26\"], [1.0, \"#f0f921\"]], \"type\": \"heatmapgl\"}], \"histogram\": [{\"marker\": {\"colorbar\": {\"outlinewidth\": 0, \"ticks\": \"\"}}, \"type\": \"histogram\"}], \"histogram2d\": [{\"colorbar\": {\"outlinewidth\": 0, \"ticks\": \"\"}, \"colorscale\": [[0.0, \"#0d0887\"], [0.1111111111111111, \"#46039f\"], [0.2222222222222222, \"#7201a8\"], [0.3333333333333333, \"#9c179e\"], [0.4444444444444444, \"#bd3786\"], [0.5555555555555556, \"#d8576b\"], [0.6666666666666666, \"#ed7953\"], [0.7777777777777778, \"#fb9f3a\"], [0.8888888888888888, \"#fdca26\"], [1.0, \"#f0f921\"]], \"type\": \"histogram2d\"}], \"histogram2dcontour\": [{\"colorbar\": {\"outlinewidth\": 0, \"ticks\": \"\"}, \"colorscale\": [[0.0, \"#0d0887\"], [0.1111111111111111, \"#46039f\"], [0.2222222222222222, \"#7201a8\"], [0.3333333333333333, \"#9c179e\"], [0.4444444444444444, \"#bd3786\"], [0.5555555555555556, \"#d8576b\"], [0.6666666666666666, \"#ed7953\"], [0.7777777777777778, \"#fb9f3a\"], [0.8888888888888888, \"#fdca26\"], [1.0, \"#f0f921\"]], \"type\": \"histogram2dcontour\"}], \"mesh3d\": [{\"colorbar\": {\"outlinewidth\": 0, \"ticks\": \"\"}, \"type\": \"mesh3d\"}], \"parcoords\": [{\"line\": {\"colorbar\": {\"outlinewidth\": 0, \"ticks\": \"\"}}, \"type\": \"parcoords\"}], \"pie\": [{\"automargin\": true, \"type\": \"pie\"}], \"scatter\": [{\"marker\": {\"colorbar\": {\"outlinewidth\": 0, \"ticks\": \"\"}}, \"type\": \"scatter\"}], \"scatter3d\": [{\"line\": {\"colorbar\": {\"outlinewidth\": 0, \"ticks\": \"\"}}, \"marker\": {\"colorbar\": {\"outlinewidth\": 0, \"ticks\": \"\"}}, \"type\": \"scatter3d\"}], \"scattercarpet\": [{\"marker\": {\"colorbar\": {\"outlinewidth\": 0, \"ticks\": \"\"}}, \"type\": \"scattercarpet\"}], \"scattergeo\": [{\"marker\": {\"colorbar\": {\"outlinewidth\": 0, \"ticks\": \"\"}}, \"type\": \"scattergeo\"}], \"scattergl\": [{\"marker\": {\"colorbar\": {\"outlinewidth\": 0, \"ticks\": \"\"}}, \"type\": \"scattergl\"}], \"scattermapbox\": [{\"marker\": {\"colorbar\": {\"outlinewidth\": 0, \"ticks\": \"\"}}, \"type\": \"scattermapbox\"}], \"scatterpolar\": [{\"marker\": {\"colorbar\": {\"outlinewidth\": 0, \"ticks\": \"\"}}, \"type\": \"scatterpolar\"}], \"scatterpolargl\": [{\"marker\": {\"colorbar\": {\"outlinewidth\": 0, \"ticks\": \"\"}}, \"type\": \"scatterpolargl\"}], \"scatterternary\": [{\"marker\": {\"colorbar\": {\"outlinewidth\": 0, \"ticks\": \"\"}}, \"type\": \"scatterternary\"}], \"surface\": [{\"colorbar\": {\"outlinewidth\": 0, \"ticks\": \"\"}, \"colorscale\": [[0.0, \"#0d0887\"], [0.1111111111111111, \"#46039f\"], [0.2222222222222222, \"#7201a8\"], [0.3333333333333333, \"#9c179e\"], [0.4444444444444444, \"#bd3786\"], [0.5555555555555556, \"#d8576b\"], [0.6666666666666666, \"#ed7953\"], [0.7777777777777778, \"#fb9f3a\"], [0.8888888888888888, \"#fdca26\"], [1.0, \"#f0f921\"]], \"type\": \"surface\"}], \"table\": [{\"cells\": {\"fill\": {\"color\": \"#EBF0F8\"}, \"line\": {\"color\": \"white\"}}, \"header\": {\"fill\": {\"color\": \"#C8D4E3\"}, \"line\": {\"color\": \"white\"}}, \"type\": \"table\"}]}, \"layout\": {\"annotationdefaults\": {\"arrowcolor\": \"#2a3f5f\", \"arrowhead\": 0, \"arrowwidth\": 1}, \"autotypenumbers\": \"strict\", \"coloraxis\": {\"colorbar\": {\"outlinewidth\": 0, \"ticks\": \"\"}}, \"colorscale\": {\"diverging\": [[0, \"#8e0152\"], [0.1, \"#c51b7d\"], [0.2, \"#de77ae\"], [0.3, \"#f1b6da\"], [0.4, \"#fde0ef\"], [0.5, \"#f7f7f7\"], [0.6, \"#e6f5d0\"], [0.7, \"#b8e186\"], [0.8, \"#7fbc41\"], [0.9, \"#4d9221\"], [1, \"#276419\"]], \"sequential\": [[0.0, \"#0d0887\"], [0.1111111111111111, \"#46039f\"], [0.2222222222222222, \"#7201a8\"], [0.3333333333333333, \"#9c179e\"], [0.4444444444444444, \"#bd3786\"], [0.5555555555555556, \"#d8576b\"], [0.6666666666666666, \"#ed7953\"], [0.7777777777777778, \"#fb9f3a\"], [0.8888888888888888, \"#fdca26\"], [1.0, \"#f0f921\"]], \"sequentialminus\": [[0.0, \"#0d0887\"], [0.1111111111111111, \"#46039f\"], [0.2222222222222222, \"#7201a8\"], [0.3333333333333333, \"#9c179e\"], [0.4444444444444444, \"#bd3786\"], [0.5555555555555556, \"#d8576b\"], [0.6666666666666666, \"#ed7953\"], [0.7777777777777778, \"#fb9f3a\"], [0.8888888888888888, \"#fdca26\"], [1.0, \"#f0f921\"]]}, \"colorway\": [\"#636efa\", \"#EF553B\", \"#00cc96\", \"#ab63fa\", \"#FFA15A\", \"#19d3f3\", \"#FF6692\", \"#B6E880\", \"#FF97FF\", \"#FECB52\"], \"font\": {\"color\": \"#2a3f5f\"}, \"geo\": {\"bgcolor\": \"white\", \"lakecolor\": \"white\", \"landcolor\": \"#E5ECF6\", \"showlakes\": true, \"showland\": true, \"subunitcolor\": \"white\"}, \"hoverlabel\": {\"align\": \"left\"}, \"hovermode\": \"closest\", \"mapbox\": {\"style\": \"light\"}, \"paper_bgcolor\": \"white\", \"plot_bgcolor\": \"#E5ECF6\", \"polar\": {\"angularaxis\": {\"gridcolor\": \"white\", \"linecolor\": \"white\", \"ticks\": \"\"}, \"bgcolor\": \"#E5ECF6\", \"radialaxis\": {\"gridcolor\": \"white\", \"linecolor\": \"white\", \"ticks\": \"\"}}, \"scene\": {\"xaxis\": {\"backgroundcolor\": \"#E5ECF6\", \"gridcolor\": \"white\", \"gridwidth\": 2, \"linecolor\": \"white\", \"showbackground\": true, \"ticks\": \"\", \"zerolinecolor\": \"white\"}, \"yaxis\": {\"backgroundcolor\": \"#E5ECF6\", \"gridcolor\": \"white\", \"gridwidth\": 2, \"linecolor\": \"white\", \"showbackground\": true, \"ticks\": \"\", \"zerolinecolor\": \"white\"}, \"zaxis\": {\"backgroundcolor\": \"#E5ECF6\", \"gridcolor\": \"white\", \"gridwidth\": 2, \"linecolor\": \"white\", \"showbackground\": true, \"ticks\": \"\", \"zerolinecolor\": \"white\"}}, \"shapedefaults\": {\"line\": {\"color\": \"#2a3f5f\"}}, \"ternary\": {\"aaxis\": {\"gridcolor\": \"white\", \"linecolor\": \"white\", \"ticks\": \"\"}, \"baxis\": {\"gridcolor\": \"white\", \"linecolor\": \"white\", \"ticks\": \"\"}, \"bgcolor\": \"#E5ECF6\", \"caxis\": {\"gridcolor\": \"white\", \"linecolor\": \"white\", \"ticks\": \"\"}}, \"title\": {\"x\": 0.05}, \"xaxis\": {\"automargin\": true, \"gridcolor\": \"white\", \"linecolor\": \"white\", \"ticks\": \"\", \"title\": {\"standoff\": 15}, \"zerolinecolor\": \"white\", \"zerolinewidth\": 2}, \"yaxis\": {\"automargin\": true, \"gridcolor\": \"white\", \"linecolor\": \"white\", \"ticks\": \"\", \"title\": {\"standoff\": 15}, \"zerolinecolor\": \"white\", \"zerolinewidth\": 2}}}},                        {\"responsive\": true}                    ).then(function(){\n",
              "                            \n",
              "var gd = document.getElementById('cff6b0db-9e4a-4056-9ea8-ced194b9997d');\n",
              "var x = new MutationObserver(function (mutations, observer) {{\n",
              "        var display = window.getComputedStyle(gd).display;\n",
              "        if (!display || display === 'none') {{\n",
              "            console.log([gd, 'removed!']);\n",
              "            Plotly.purge(gd);\n",
              "            observer.disconnect();\n",
              "        }}\n",
              "}});\n",
              "\n",
              "// Listen for the removal of the full notebook cells\n",
              "var notebookContainer = gd.closest('#notebook-container');\n",
              "if (notebookContainer) {{\n",
              "    x.observe(notebookContainer, {childList: true});\n",
              "}}\n",
              "\n",
              "// Listen for the clearing of the current output cell\n",
              "var outputEl = gd.closest('.output');\n",
              "if (outputEl) {{\n",
              "    x.observe(outputEl, {childList: true});\n",
              "}}\n",
              "\n",
              "                        })                };                            </script>        </div>\n",
              "</body>\n",
              "</html>"
            ]
          },
          "metadata": {
            "tags": []
          }
        }
      ]
    },
    {
      "cell_type": "markdown",
      "metadata": {
        "id": "17X0zSJT2LIG"
      },
      "source": [
        "When looking at both the maps, at first glance it may not seem like much has changed, however that couldn't be further from the truth. In the latter map, the 2019 one, wealth is spread out a lot more throughout the city, and seemingly less concentrated, even spreading into the lower-east side, overall it seems that Manhattan generally has improved it's economic wellbeing over the past decade. The only concering area is northern manhattan around Harlem, where the wealth is seemingly not being spread, and very little seems to have been done to move that area, or break the mold there.\n",
        "\n",
        "Overall, it seems that after this analysis, NYC is on the right track in Manhattan, and seems to be ensuring poverty concentration is being worked on, slowly but surely. It's nice to see tha programs like MIH (Mandatory inclusionary housing) seem to be working when just looking at the incomes, but at the end of the day, it's safe to say that Manhattan is improving fiscally, as both the richest and the poorest residents have seen large jumps in their household's income over the past decade. "
      ]
    }
  ]
}